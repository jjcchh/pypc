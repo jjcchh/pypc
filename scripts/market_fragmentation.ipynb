{
 "cells": [
  {
   "cell_type": "code",
   "execution_count": 1,
   "metadata": {},
   "outputs": [],
   "source": [
    "import pandas as pd\n",
    "import requests\n",
    "from bs4 import BeautifulSoup\n",
    "import src.scrape_data as sd"
   ]
  },
  {
   "cell_type": "code",
   "execution_count": 206,
   "metadata": {},
   "outputs": [
    {
     "name": "stdout",
     "output_type": "stream",
     "text": [
      "['Downy' 'Gain' 'Arm' 'Snuggle' 'Clorox' 'Mrs.' 'Purex' 'Dreft' 'Amazon']\n"
     ]
    }
   ],
   "source": [
    "## Scrape product data from the first 5 pages of search results on Amazon with the search term \"laundry scent booster\" ordered by \"Best Seller\"\n",
    "\n",
    "laundry_scent_booster = sd.scrape_data(\"https://www.amazon.com/s?k=laundry+scent+booster&crid=15IJ88INZZP4B&sprefix=laundry+scent+booster%2Caps%2C197&ref=nb_sb_noss_1\")\n",
    "\n",
    "brand = []\n",
    "\n",
    "for i in range(50):\n",
    "    temp = laundry_scent_booster.title[i].split()[:10]\n",
    "    bn = temp[0]\n",
    "    brand.append(bn)\n",
    "\n",
    "unique_brand = pd.unique(brand)\n",
    "print(unique_brand)"
   ]
  },
  {
   "cell_type": "code",
   "execution_count": 207,
   "metadata": {},
   "outputs": [
    {
     "data": {
      "text/plain": [
       "array(['Mrs.'], dtype=object)"
      ]
     },
     "execution_count": 207,
     "metadata": {},
     "output_type": "execute_result"
    }
   ],
   "source": [
    "unique_brand.loc[unique_brand[\"gender\"] == \"male\", \"gender\"] = 1"
   ]
  },
  {
   "cell_type": "code",
   "execution_count": 198,
   "metadata": {},
   "outputs": [
    {
     "data": {
      "text/plain": [
       "array(['Downy', 'Mrs.', 'Fresh', 'FREY', 'Arm', 'B&N', 'Dreft', 'The',\n",
       "       'OLYKEI', 'Woolzies', 'Dirty', \"Molly's\", 'Earth', 'Dropps',\n",
       "       'Laundry', 'KIFRA', 'Frey', 'Capri', 'Sheets', 'Grab', 'Clorox',\n",
       "       'Purex', 'Snuggle', 'Method', 'BLUELAND'], dtype=object)"
      ]
     },
     "execution_count": 198,
     "metadata": {},
     "output_type": "execute_result"
    }
   ],
   "source": [
    "## Scrape product data from the first 5 pages of search results on Amazon with the search term \"laundry scent booster\" ordered by \"Best Seller\"\n",
    "\n",
    "laundry_scent_booster = sd.scrape_data(\"https://www.amazon.com/s?k=natural+laundry+scent+booster&crid=3TFLK0BLAIF68&sprefix=natural+laundry+scent+booster%2Caps%2C70&ref=nb_sb_noss_1\")\n",
    "\n",
    "brand = []\n",
    "\n",
    "for i in range(50):\n",
    "    temp = laundry_scent_booster.title[i].split()[:10]\n",
    "    bn = temp[0]\n",
    "    brand.append(bn)\n",
    "\n",
    "pd.unique(brand)"
   ]
  }
 ],
 "metadata": {
  "kernelspec": {
   "display_name": "pypc",
   "language": "python",
   "name": "python3"
  },
  "language_info": {
   "codemirror_mode": {
    "name": "ipython",
    "version": 3
   },
   "file_extension": ".py",
   "mimetype": "text/x-python",
   "name": "python",
   "nbconvert_exporter": "python",
   "pygments_lexer": "ipython3",
   "version": "3.8.16"
  },
  "orig_nbformat": 4
 },
 "nbformat": 4,
 "nbformat_minor": 2
}
