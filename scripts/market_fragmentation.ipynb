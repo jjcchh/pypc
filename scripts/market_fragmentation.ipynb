{
 "cells": [
  {
   "cell_type": "code",
   "execution_count": 45,
   "metadata": {},
   "outputs": [],
   "source": [
    "import pandas as pd\n",
    "import numpy as np\n",
    "import requests\n",
    "from bs4 import BeautifulSoup\n",
    "import src.scrape_data as sd"
   ]
  },
  {
   "cell_type": "code",
   "execution_count": 13,
   "metadata": {},
   "outputs": [],
   "source": [
    "## Scrape product data from the first page of search results on Amazon with the search term \"laundry scent booster\" ordered by \"Featured\"\n",
    "\n",
    "std_sb = sd.scrape_data(\"https://www.amazon.com/s?k=laundry+scent+booster&crid=15IJ88INZZP4B&sprefix=laundry+scent+booster%2Caps%2C197&ref=nb_sb_noss_1\")\n",
    "std_sb.Num_Reviews = std_sb.Num_Reviews.replace(',','', regex=True)\n",
    "std_sb['Num_Reviews'] = pd.to_numeric(std_sb['Num_Reviews'], errors='coerce')\n",
    "\n",
    "std_brands = []\n",
    "\n",
    "for i in range(50):\n",
    "    temp = std_sb.Title[i].split()[:10]\n",
    "    bn = temp[0]\n",
    "    std_brands.append(bn)\n",
    "\n",
    "std_brands = pd.DataFrame(std_brands, columns=['Name'])\n",
    "std_brand_counts = std_brands.Name.value_counts()\n",
    "std_brand_idxs = pd.DataFrame([[k,v.values]\n",
    "    for k,v in std_brands.groupby('Name').groups.items()], \n",
    "        columns=['Name', 'Indices'])\n",
    "\n",
    "\n",
    "# print(unique_brands)\n",
    "# unique_brands[2] = 'Arm & Hammer'\n",
    "# unique_brands[5] = 'Mr. Meyers'\n",
    "# unique_brands[6] = 'Sheets Laundry Club'"
   ]
  },
  {
   "cell_type": "code",
   "execution_count": 136,
   "metadata": {},
   "outputs": [
    {
     "name": "stderr",
     "output_type": "stream",
     "text": [
      "C:\\Users\\jeremyjc\\AppData\\Local\\Temp\\ipykernel_14072\\1071642910.py:12: FutureWarning: The frame.append method is deprecated and will be removed from pandas in a future version. Use pandas.concat instead.\n",
      "  reviews_by_brand.append([reviews_by_brand, pd.DataFrame([brand], [n_reviews])])\n",
      "C:\\Users\\jeremyjc\\AppData\\Local\\Temp\\ipykernel_14072\\1071642910.py:12: FutureWarning: The frame.append method is deprecated and will be removed from pandas in a future version. Use pandas.concat instead.\n",
      "  reviews_by_brand.append([reviews_by_brand, pd.DataFrame([brand], [n_reviews])])\n",
      "C:\\Users\\jeremyjc\\AppData\\Local\\Temp\\ipykernel_14072\\1071642910.py:12: FutureWarning: The frame.append method is deprecated and will be removed from pandas in a future version. Use pandas.concat instead.\n",
      "  reviews_by_brand.append([reviews_by_brand, pd.DataFrame([brand], [n_reviews])])\n",
      "C:\\Users\\jeremyjc\\AppData\\Local\\Temp\\ipykernel_14072\\1071642910.py:12: FutureWarning: The frame.append method is deprecated and will be removed from pandas in a future version. Use pandas.concat instead.\n",
      "  reviews_by_brand.append([reviews_by_brand, pd.DataFrame([brand], [n_reviews])])\n",
      "C:\\Users\\jeremyjc\\AppData\\Local\\Temp\\ipykernel_14072\\1071642910.py:12: FutureWarning: The frame.append method is deprecated and will be removed from pandas in a future version. Use pandas.concat instead.\n",
      "  reviews_by_brand.append([reviews_by_brand, pd.DataFrame([brand], [n_reviews])])\n",
      "C:\\Users\\jeremyjc\\AppData\\Local\\Temp\\ipykernel_14072\\1071642910.py:12: FutureWarning: The frame.append method is deprecated and will be removed from pandas in a future version. Use pandas.concat instead.\n",
      "  reviews_by_brand.append([reviews_by_brand, pd.DataFrame([brand], [n_reviews])])\n",
      "C:\\Users\\jeremyjc\\AppData\\Local\\Temp\\ipykernel_14072\\1071642910.py:12: FutureWarning: The frame.append method is deprecated and will be removed from pandas in a future version. Use pandas.concat instead.\n",
      "  reviews_by_brand.append([reviews_by_brand, pd.DataFrame([brand], [n_reviews])])\n",
      "C:\\Users\\jeremyjc\\AppData\\Local\\Temp\\ipykernel_14072\\1071642910.py:12: FutureWarning: The frame.append method is deprecated and will be removed from pandas in a future version. Use pandas.concat instead.\n",
      "  reviews_by_brand.append([reviews_by_brand, pd.DataFrame([brand], [n_reviews])])\n",
      "C:\\Users\\jeremyjc\\AppData\\Local\\Temp\\ipykernel_14072\\1071642910.py:12: FutureWarning: The frame.append method is deprecated and will be removed from pandas in a future version. Use pandas.concat instead.\n",
      "  reviews_by_brand.append([reviews_by_brand, pd.DataFrame([brand], [n_reviews])])\n"
     ]
    }
   ],
   "source": [
    "n_brands = std_brand_counts.size\n",
    "# reviews_by_brand = pd.DataFrame(np.zeros((n_brands, 2)), columns=['Brand', 'Num_Reviews'])\n",
    "reviews_by_brand = pd.DataFrame(columns=['Brand', 'Num_Reviews'])\n",
    "\n",
    "n_reviews = 0\n",
    "\n",
    "for i in range(n_brands):\n",
    "    brand = std_brand_idxs.loc[i]['Name']\n",
    "    n_products = std_brand_idxs.loc[i]['Indices'].size\n",
    "    for j in range(n_products):\n",
    "        n_reviews += std_sb['Num_Reviews'].loc[std_brand_idxs.loc[i]['Indices'][j]]\n",
    "    reviews_by_brand.append([reviews_by_brand, pd.DataFrame([brand], [n_reviews])])\n",
    "    # reviews_by_brand['Brand'][i] = brand\n",
    "    # reviews_by_brand['Num_Reviews'][i] = n_reviews\n",
    "    n_reviews = 0\n",
    "\n"
   ]
  },
  {
   "cell_type": "code",
   "execution_count": 143,
   "metadata": {},
   "outputs": [
    {
     "data": {
      "text/html": [
       "<div>\n",
       "<style scoped>\n",
       "    .dataframe tbody tr th:only-of-type {\n",
       "        vertical-align: middle;\n",
       "    }\n",
       "\n",
       "    .dataframe tbody tr th {\n",
       "        vertical-align: top;\n",
       "    }\n",
       "\n",
       "    .dataframe thead th {\n",
       "        text-align: right;\n",
       "    }\n",
       "</style>\n",
       "<table border=\"1\" class=\"dataframe\">\n",
       "  <thead>\n",
       "    <tr style=\"text-align: right;\">\n",
       "      <th></th>\n",
       "      <th>0</th>\n",
       "    </tr>\n",
       "  </thead>\n",
       "  <tbody>\n",
       "    <tr>\n",
       "      <th>0</th>\n",
       "      <td>1</td>\n",
       "    </tr>\n",
       "    <tr>\n",
       "      <th>1</th>\n",
       "      <td>2</td>\n",
       "    </tr>\n",
       "  </tbody>\n",
       "</table>\n",
       "</div>"
      ],
      "text/plain": [
       "   0\n",
       "0  1\n",
       "1  2"
      ]
     },
     "execution_count": 143,
     "metadata": {},
     "output_type": "execute_result"
    }
   ],
   "source": [
    "pd.DataFrame(np.array([(1), (2)]))"
   ]
  },
  {
   "cell_type": "code",
   "execution_count": 142,
   "metadata": {},
   "outputs": [
    {
     "data": {
      "text/plain": [
       "array([1, 2])"
      ]
     },
     "execution_count": 142,
     "metadata": {},
     "output_type": "execute_result"
    }
   ],
   "source": [
    "np.array([(1), (2)])"
   ]
  },
  {
   "cell_type": "code",
   "execution_count": 129,
   "metadata": {},
   "outputs": [
    {
     "data": {
      "text/plain": [
       "['Snuggle']"
      ]
     },
     "execution_count": 129,
     "metadata": {},
     "output_type": "execute_result"
    }
   ],
   "source": [
    "[brand]"
   ]
  },
  {
   "cell_type": "code",
   "execution_count": 198,
   "metadata": {},
   "outputs": [
    {
     "data": {
      "text/plain": [
       "array(['Downy', 'Mrs.', 'Fresh', 'FREY', 'Arm', 'B&N', 'Dreft', 'The',\n",
       "       'OLYKEI', 'Woolzies', 'Dirty', \"Molly's\", 'Earth', 'Dropps',\n",
       "       'Laundry', 'KIFRA', 'Frey', 'Capri', 'Sheets', 'Grab', 'Clorox',\n",
       "       'Purex', 'Snuggle', 'Method', 'BLUELAND'], dtype=object)"
      ]
     },
     "execution_count": 198,
     "metadata": {},
     "output_type": "execute_result"
    }
   ],
   "source": [
    "## Scrape product data from the page of search results on Amazon with the search term \"natural laundry scent booster\" ordered by \"Featured\"\n",
    "\n",
    "laundry_scent_booster = sd.scrape_data(\"https://www.amazon.com/s?k=natural+laundry+scent+booster&crid=3TFLK0BLAIF68&sprefix=natural+laundry+scent+booster%2Caps%2C70&ref=nb_sb_noss_1\")\n",
    "\n",
    "brand = []\n",
    "\n",
    "for i in range(50):\n",
    "    temp = laundry_scent_booster.title[i].split()[:10]\n",
    "    bn = temp[0]\n",
    "    brand.append(bn)\n",
    "\n",
    "pd.unique(brand)"
   ]
  }
 ],
 "metadata": {
  "kernelspec": {
   "display_name": "pypc",
   "language": "python",
   "name": "python3"
  },
  "language_info": {
   "codemirror_mode": {
    "name": "ipython",
    "version": 3
   },
   "file_extension": ".py",
   "mimetype": "text/x-python",
   "name": "python",
   "nbconvert_exporter": "python",
   "pygments_lexer": "ipython3",
   "version": "3.8.16"
  },
  "orig_nbformat": 4
 },
 "nbformat": 4,
 "nbformat_minor": 2
}
